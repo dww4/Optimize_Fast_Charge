{
 "cells": [
  {
   "cell_type": "markdown",
   "id": "3d946cc5",
   "metadata": {},
   "source": [
    "# Bayesian Optimization of Fast Charging Protocols\n",
    "\n",
    "This notebook demonstrates the use of the Ax Bayesian Optimization framework to tune a multi-step CC-CV fast charging protocol for a Li-ion battery simulated using a P2D cell model (w/ plating) in PyBaMM. Essentially, this project seeks to answer the question: \"What is the charging protocol that maximizes charge in 30 minutes while minimizing aging to the battery?\"\n",
    "\n",
    "---\n",
    "\n",
    "## Background\n",
    "\n",
    "We now start with a 5-step charging protocol:  \n",
    "- Step 1: C-rate C1 for 6 minutes \n",
    "- Step 2: C-rate C2 for 6 minutes \n",
    "- Step 3: C-rate C3 for 6 minutes \n",
    "- Step 4: C-rate C4 for 6 minutes\n",
    "- Step 5: C-rate C5 for 6 minutes\n",
    "\n",
    "where C1, C2, C3, C4, and C5 are the parameters to be optimized.\n",
    "\n",
    "\n",
    "The optimization objective is: \n",
    "\n",
    "objective = $Q_{30} - \\beta*\\log(Q_{lost})$\n",
    "\n",
    "where: \n",
    "- $Q_{30}$ is the charge stored in 30 minutes \\[Ah\\] \n",
    "- $Q_{lost}$ is the capacity lost due to lithium plating \\[Ah\\] \n",
    "- $\\beta$ is a dimensionless weight that tunes how much the user wants to target high capacity versus low degradation \n",
    "\n",
    "This objective is chosen because it satisfies the following criteria:\n",
    "1. Rewards high capacity\n",
    "2. Penalizes lithium plating\n",
    "3. Tunable\n",
    "4. Stable"
   ]
  },
  {
   "cell_type": "markdown",
   "id": "60740f85",
   "metadata": {},
   "source": [
    "## Load Libraries"
   ]
  },
  {
   "cell_type": "code",
   "execution_count": 1,
   "id": "4d619330",
   "metadata": {},
   "outputs": [],
   "source": [
    "#PyBamm Library\n",
    "import pybamm\n",
    "\n",
    "#Numpy Library\n",
    "import numpy as np\n",
    "\n",
    "#Ax Libraries\n",
    "from ax.api.client import Client\n",
    "from ax.api.configs import  RangeParameterConfig"
   ]
  },
  {
   "cell_type": "markdown",
   "id": "b1ca40fd",
   "metadata": {},
   "source": [
    "---\n",
    "\n",
    "## Define the Simulation Function\n",
    "\n",
    "In this section, we define the `run_P2D` function, which simulates a given charging protocol and returns the optimization objective. \n",
    "\n",
    "We use the DFN model with reversible plating enabled (based on LG M50 cell parameters) and evaluate performance after 30 minutes of charge. Before the charge cycle, the cell is discharged to it's minimum voltage at 1C.  \n"
   ]
  },
  {
   "cell_type": "code",
   "execution_count": 4,
   "id": "206a504e",
   "metadata": {},
   "outputs": [],
   "source": [
    "def run_P2D(params,beta):\n",
    "    C1, C2, C3, C4, C5 = params[0], params[1], params[2], params[3], params[4]\n",
    "    \n",
    "    #Define DFN model with lihtium plating\n",
    "    model = pybamm.lithium_ion.DFN(options={\"lithium plating\": \"reversible\"})\n",
    "    \n",
    "    #Define CC Experiment\n",
    "    experiment = pybamm.Experiment([\n",
    "        \"Discharge at 1C until 2.6V\",\n",
    "        \"Hold at 2.6V for 10 minutes\",\n",
    "        f\"Charge at {C1}C for 6 minutes\",\n",
    "        f\"Charge at {C2}C for 6 minutes\",\n",
    "        f\"Charge at {C3}C for 6 minutes\",\n",
    "        f\"Charge at {C4}C for 6 minutes\",\n",
    "        f\"Charge at {C5}C for 6 minutes\",\n",
    "    ])\n",
    "    pv = pybamm.ParameterValues(\"OKane2022\")\n",
    "    \n",
    "    #Run Simulation\n",
    "    sim = pybamm.Simulation(model, experiment=experiment,parameter_values=pv)\n",
    "    sim.solve(solver=pybamm.CasadiSolver(mode=\"safe\", dt_max=1))\n",
    "    \n",
    "    #Obtain Simulation Observables\n",
    "    time_sim = sim.solution[\"Time [min]\"].data\n",
    "    lost_capacity = np.max(sim.solution['Loss of capacity to negative lithium plating [A.h]'].data)\n",
    "    \n",
    "    #Calculate Amount of Charge in 30 minutes\n",
    "    I = sim.solution[\"Current [A]\"].data          #store current data\n",
    "    t0 = time_sim[np.where(I < 0)[0][0]]     #index first charging point\n",
    "    charging_mask = (I < 0) & (time_sim <= t0 + 1800) #define 30 minute charging range\n",
    "    Q30 = np.trapz(-I[charging_mask], time_sim[charging_mask])   #coulomb count for 30 minute charging range\n",
    "    Q30_Ah = Q30 / 3600     #convert to Ah\n",
    "    \n",
    "    objective = Q30_Ah - beta*np.log(lost_capacity)\n",
    "    \n",
    "    print({\"lost_capacity\": lost_capacity, \"Q30\": Q30_Ah, \"objective\": objective})\n",
    "    return {\"objective\": objective}\n"
   ]
  },
  {
   "cell_type": "markdown",
   "id": "b6df1a66",
   "metadata": {},
   "source": [
    "---\n",
    "\n",
    "## Test Simulation Weight\n",
    "\n",
    "Before optimizing, it's important to test the P2D model to ensure that the simulation returns sensical values and that the weighting factor ($\\beta$) reflects the goals of the user (ex: higher capacity vs less plating). Since the parameters of the P2D model are based on an NMC-graphite chemistry (i.e relatively stable so plating shouldn't be very destructive), I will target a higher capacity. The following ranking is desired: \n",
    "\n",
    "Rank 1 (Worst): Low capacity + High degradation \\\n",
    "Rank 2: Low capacity + Low degradation \\\n",
    "Rank 3: High capacity + High degradation \\\n",
    "Rank 4 (Best): High capacity + Low degradation\n",
    "\n",
    "If a more passive protocol is desired (i.e less degradation is favored), then ranks 2 and 3 could be switched as is done in the \"3step\" notebook.\n"
   ]
  },
  {
   "cell_type": "code",
   "execution_count": 6,
   "id": "be0fee35",
   "metadata": {},
   "outputs": [
    {
     "name": "stderr",
     "output_type": "stream",
     "text": [
      "At t = 472.929 and h = 2.38432e-11, the corrector convergence failed repeatedly or with |h| = hmin.\n",
      "At t = 232.929 and h = 1.9824e-11, the corrector convergence failed repeatedly or with |h| = hmin.\n"
     ]
    },
    {
     "name": "stdout",
     "output_type": "stream",
     "text": [
      "{'lost_capacity': 0.0005620043797975666, 'Q30': 0.010416666666666663, 'objective': 0.07028867398560143}\n"
     ]
    },
    {
     "name": "stderr",
     "output_type": "stream",
     "text": [
      "At t = 472.929 and h = 2.38432e-11, the corrector convergence failed repeatedly or with |h| = hmin.\n",
      "At t = 232.929 and h = 1.9824e-11, the corrector convergence failed repeatedly or with |h| = hmin.\n"
     ]
    },
    {
     "name": "stdout",
     "output_type": "stream",
     "text": [
      "{'lost_capacity': 0.0006277617094485365, 'Q30': 0.020833333333333325, 'objective': 0.07982013258978359}\n"
     ]
    },
    {
     "name": "stderr",
     "output_type": "stream",
     "text": [
      "At t = 472.929 and h = 2.38432e-11, the corrector convergence failed repeatedly or with |h| = hmin.\n",
      "At t = 232.929 and h = 1.9824e-11, the corrector convergence failed repeatedly or with |h| = hmin.\n"
     ]
    },
    {
     "name": "stdout",
     "output_type": "stream",
     "text": [
      "{'lost_capacity': 0.4483237218600773, 'Q30': 0.0833333333333333, 'objective': 0.08975125104592867}\n"
     ]
    },
    {
     "name": "stderr",
     "output_type": "stream",
     "text": [
      "At t = 472.929 and h = 2.38432e-11, the corrector convergence failed repeatedly or with |h| = hmin.\n",
      "At t = 232.929 and h = 1.9824e-11, the corrector convergence failed repeatedly or with |h| = hmin.\n"
     ]
    },
    {
     "name": "stdout",
     "output_type": "stream",
     "text": [
      "{'lost_capacity': 0.39359550475025973, 'Q30': 0.0833333333333333, 'objective': 0.090792785611152}\n"
     ]
    },
    {
     "data": {
      "text/plain": [
       "{'objective': 0.090792785611152}"
      ]
     },
     "execution_count": 6,
     "metadata": {},
     "output_type": "execute_result"
    }
   ],
   "source": [
    "beta = 0.008 #beta = 0.011 is very balanced but slightly on less degradation side (passive) | beta = 0.008 is slightly on more capacity side (aggressive)\n",
    "run_P2D([0.25,0.25,0.25,0.25,0.25],beta)\n",
    "run_P2D([0.5,0.5,0.5,0.5,0.5],beta)\n",
    "run_P2D([2,2,2,2,2],beta)\n",
    "run_P2D([3,2.5,2,1.5,1],beta) "
   ]
  },
  {
   "cell_type": "markdown",
   "id": "21e2fb34",
   "metadata": {},
   "source": [
    "### Test Results\n",
    "\n",
    "Two things to note after this initial test:\n",
    "\n",
    "1. The P2D + plating model is indeed returning values that make physical sense. As the C-rate is doubled from C/4 -> C/2, the amount of charge is doubled but the capacity lost to plating is nearly the same. However, at higher C-rates (ex: 2C) there is significant plating as expected. Finally, when the current starts high but is decreased as the charge progresses (a common strategy used in fast charging), the degree of plating decreases since lithium intercalation is easiest at low SOC. \n",
    "\n",
    "\n",
    "2. $\\beta$ = 0.008 results in the ranking that I desired, but again this can be readily changed to reflect a more passive strategy that favors less degradation.\n",
    "\n",
    "---\n"
   ]
  },
  {
   "cell_type": "markdown",
   "id": "4f24c2c0",
   "metadata": {},
   "source": [
    "\n",
    "## Run Bayesian Optimization\n",
    "\n",
    "Ax is now called to optimize the charge profile (C1, C2, C3, C4, C5). By default, the algorithm uses Gaussian Process (GP) as the surrogate model and Expected Improvement (EI) as the utiliy function. \n",
    "\n",
    "### Initialize Algorithm\n",
    "The following cell initializes the experiment, defines input parameters, and sets the optimization objective. The maximum C-rate is 3C to avoid Vmax from being reached, and the objective is maximized. \n"
   ]
  },
  {
   "cell_type": "code",
   "execution_count": null,
   "id": "3e60a5bd",
   "metadata": {},
   "outputs": [],
   "source": [
    "#1. Initialize Client for Experiment\n",
    "client = Client()\n",
    "\n",
    "#2. Define Input Parameter Name, Type, and Bounds/Values\n",
    "C1 = RangeParameterConfig(name=\"C1\", parameter_type=\"float\", bounds=(0, 3))   #3C is max to prevent Vmax from being reached\n",
    "C2 = RangeParameterConfig(name=\"C2\", parameter_type=\"float\", bounds=(0, 3))\n",
    "C3 = RangeParameterConfig(name=\"C3\", parameter_type=\"float\", bounds=(0, 3))\n",
    "C4 = RangeParameterConfig(name=\"C4\", parameter_type=\"float\", bounds=(0, 3))\n",
    "C5 = RangeParameterConfig(name=\"C5\", parameter_type=\"float\", bounds=(0, 3))\n",
    "\n",
    "#3. Configure Experiment\n",
    "client.configure_experiment(\n",
    "    parameters=[C1,C2,C3,C4,C5],\n",
    "    # The following arguments are only necessary when saving to the DB\n",
    "    name=\"Fast-Charging-Exp\",\n",
    "    description=\"Optimize fast charging profile-aggressive\",\n",
    ")\n",
    "\n",
    "#4. Set Optimization Objective\n",
    "client.configure_optimization(objective=\"objective\")"
   ]
  },
  {
   "cell_type": "markdown",
   "id": "cc5fdb47",
   "metadata": {},
   "source": [
    "### Attach Preexisting Trials\n",
    "\n",
    "Attach the data from the inital simulation test to train the initial surrogate model."
   ]
  },
  {
   "cell_type": "code",
   "execution_count": null,
   "id": "b62fbca7",
   "metadata": {},
   "outputs": [],
   "source": [
    "# Pairs of previously evaluated parameterizations and associated metric readings\n",
    "preexisting_trials = [\n",
    "    (\n",
    "        {\"C1\": 0.25, \"C2\": 0.25, \"C3\": 0.25, \"C4\": 0.25, \"C5\": 0.25},\n",
    "        {\"objective\": 0.07028867398560143},\n",
    "    ),\n",
    "    (\n",
    "        {\"C1\": 0.5, \"C2\": 0.5, \"C3\": 0.5, \"C4\": 0.5, \"C5\": 0.5},\n",
    "        {\"objective\": 0.07981729329398196},\n",
    "    ),\n",
    "    (\n",
    "        {\"C1\": 2.0, \"C2\": 2.0, \"C3\": 2.0, \"C4\": 2.0, \"C5\": 2.0},\n",
    "        {\"objective\": 0.08975124385218475},\n",
    "    ),\n",
    "    (\n",
    "        {\"C1\": 3.0, \"C2\": 2.5, \"C3\": 2.0, \"C4\": 1.5, \"C5\": 1.0},\n",
    "        {\"objective\": 0.090792785611152},\n",
    "    ),\n",
    "\n",
    "]\n",
    "\n",
    "for parameters, data in preexisting_trials:\n",
    "    # Attach the parameterization to the Client as a trial and immediately complete it with the preexisting data\n",
    "    trial_index = client.attach_trial(parameters=parameters)\n",
    "    client.complete_trial(trial_index=trial_index, raw_data=data)"
   ]
  },
  {
   "cell_type": "markdown",
   "id": "51b04702",
   "metadata": {},
   "source": [
    "### Run Optimization\n",
    "\n",
    "Every epoch, obtain 3 new charge profile recommendations and test them using the `run_P2D` function for N epochs (N = 20 takes about 5 minutes). "
   ]
  },
  {
   "cell_type": "code",
   "execution_count": null,
   "id": "cb93ce1f",
   "metadata": {},
   "outputs": [],
   "source": [
    "N = 40 #number of BO epochs\n",
    "for i in range(N):\n",
    "    \n",
    "    #Get new trials\n",
    "    trials = client.get_next_trials(max_trials=3)\n",
    "    \n",
    "    # Tell Ax the result of those trials\n",
    "    for trial_index, parameters in trials.items():\n",
    "        client.complete_trial(trial_index=trial_index, raw_data=run_P2D(list(parameters.values()),beta))"
   ]
  },
  {
   "cell_type": "markdown",
   "id": "cae47f7e",
   "metadata": {},
   "source": [
    "### Analyze Results\n",
    "\n",
    "Print the best predicted paramters and show the detailed analysis from the BO algorithm"
   ]
  },
  {
   "cell_type": "code",
   "execution_count": null,
   "id": "68525779",
   "metadata": {
    "scrolled": true
   },
   "outputs": [],
   "source": [
    "best_parameters, prediction, index, name = client.get_best_parameterization()\n",
    "print(\"Best Parameters:\", best_parameters)\n",
    "print(\"Prediction (mean, variance):\", prediction)\n",
    "\n",
    "cards = client.compute_analyses(display=True)"
   ]
  },
  {
   "cell_type": "markdown",
   "id": "3fbb66b6",
   "metadata": {},
   "source": [
    "---\n",
    "\n",
    "## Results & Discussion \n",
    "\n",
    "After running this process 10 times, the most optimal charge profile the BO algorithm returned was:\n",
    "\n",
    "1. C1 = 3C (6 min)\n",
    "2. C2 = 0C (6 min)\n",
    "3. C3 = 0C (6 min)\n",
    "4. C4 = 0C (6 min)\n",
    "5. C5 = 2.52C (6 min)\n",
    "\n",
    "lost_capacity: 0.048 | Q30: 0.115 | objective: 0.139 \n",
    "\n",
    "This is quite similar to the 3-step optimal solution where a rest period is used between charging to allow the cell to relax thus minimizing degradation. However, this 5-step profile resulted in a slightly better objective than the 3-step one (0.139 vs 0.123) due to significantly less capacity loss with similar amounts of charge capacity; most likely caused by the longer rest periods used.\n",
    "\n",
    "Unlike the 3-step optimization, the 5-step one suggested a different charge profile all 10 times that it was ran. Interestingly, every suggested charge profile included at least 1 rest period; exemplifying the importance of rest to minimze degradation. Although the exact charge currents were different, some solutions had very strong similarities at least qualitatively. Out of the 10 suggestions, two strategies were proposed the most often (4 times each) and here are the results of a representative sample from each :\n",
    "\n",
    "1. **\"Long Rest\" (Optimal)**: Charge (6 minutes) - Rest (18 minutes) - Charge (6 minutes) \\\n",
    "   lost_capacity: 0.048 | Q30: 0.115 | objective: 0.139\n",
    "    \n",
    "2. **\"Pulse Rest\"**: Charge - Rest - Charge - Rest - Charge (6 minutes/each) \\\n",
    "   lost_capacity: 0.861 | Q30: 0.125 | objective: 0.126\n",
    "    \n",
    "Both of these strategies are valid solutions that have been discussed in the literature and present a tradeoff between prioritizing more capacity versus low degradation.  \n",
    "\n",
    "All 10 solutions the BO suggested can be found in the cell below. \n",
    "\n",
    "---\n",
    "\n",
    "## Conclusions & Next Steps\n",
    "\n",
    "This Bayesian optimization algorithm demonstrates that a 5-step charging protocol can be optimized effectively and the optimal strategy produced by this algorithm is similar to the 3-step BO (\"charge - rest - charge\") and performs slightly better. After running the solutions at 5% below and above the sugggested ones (within the 3C limit), the objective wasn't really improved and so a local minimum was indeed reached. \n",
    "\n",
    "Although the exact solutions suggested by this 5-step BO were less consistent than the 3-step protocol, the algorithm frequently presents the user with two valid designs found in the literature: \"long rest\" and \"pulse rest\". This decrease in consistency can be simply due to the presence of more valid solutions because of the higher number of combinations available ($N^3$ vs $N^5$ where N = # of possible C-rates at each step).\n",
    "\n",
    "While this notebook does show the effectiveness of BO in optimizing fast-charging protocols, it is important to note that the exact solution relies on the accuracy of the P2D model. In real situations the model should be parameterized to the actual cell used and a thermal model should be included. \n",
    "\n",
    "**Potential next steps**:\n",
    "- N-step charging protocol (instead of just 5)\n",
    "- Time of each step as a parameter (instead of 6 minutes for all)\n",
    "- Both N-step + t-step as parameters (most general charging profile)\n",
    "\n",
    "---\n",
    "\n",
    "## Appendix (All BO Solutions)"
   ]
  },
  {
   "cell_type": "code",
   "execution_count": 7,
   "id": "dd6b24c1",
   "metadata": {
    "scrolled": false
   },
   "outputs": [
    {
     "name": "stdout",
     "output_type": "stream",
     "text": [
      "Soln 1: \n",
      "\n"
     ]
    },
    {
     "name": "stderr",
     "output_type": "stream",
     "text": [
      "At t = 472.929 and h = 2.38432e-11, the corrector convergence failed repeatedly or with |h| = hmin.\n",
      "At t = 232.929 and h = 1.9824e-11, the corrector convergence failed repeatedly or with |h| = hmin.\n"
     ]
    },
    {
     "name": "stdout",
     "output_type": "stream",
     "text": [
      "{'lost_capacity': 0.048379699671884005, 'Q30': 0.11497305193629752, 'objective': 0.13920245178838592}\n",
      "\n",
      "Soln 2: \n",
      "\n"
     ]
    },
    {
     "name": "stderr",
     "output_type": "stream",
     "text": [
      "At t = 472.929 and h = 2.38432e-11, the corrector convergence failed repeatedly or with |h| = hmin.\n",
      "At t = 232.929 and h = 1.9824e-11, the corrector convergence failed repeatedly or with |h| = hmin.\n"
     ]
    },
    {
     "name": "stdout",
     "output_type": "stream",
     "text": [
      "{'lost_capacity': 0.03902281590475144, 'Q30': 0.1128852699178863, 'objective': 0.13883414016359105}\n",
      "\n",
      "Soln 3: \n",
      "\n"
     ]
    },
    {
     "name": "stderr",
     "output_type": "stream",
     "text": [
      "At t = 472.929 and h = 2.38432e-11, the corrector convergence failed repeatedly or with |h| = hmin.\n",
      "At t = 232.929 and h = 1.9824e-11, the corrector convergence failed repeatedly or with |h| = hmin.\n"
     ]
    },
    {
     "name": "stdout",
     "output_type": "stream",
     "text": [
      "{'lost_capacity': 0.5095954145448621, 'Q30': 0.11829000142735277, 'objective': 0.1236831068106371}\n",
      "\n",
      "Soln 4: \n",
      "\n"
     ]
    },
    {
     "name": "stderr",
     "output_type": "stream",
     "text": [
      "At t = 472.929 and h = 2.38432e-11, the corrector convergence failed repeatedly or with |h| = hmin.\n",
      "At t = 232.929 and h = 1.9824e-11, the corrector convergence failed repeatedly or with |h| = hmin.\n"
     ]
    },
    {
     "name": "stdout",
     "output_type": "stream",
     "text": [
      "{'lost_capacity': 0.4878121704877355, 'Q30': 0.11782584525960352, 'objective': 0.12356844400970113}\n",
      "\n",
      "Soln 5: \n",
      "\n"
     ]
    },
    {
     "name": "stderr",
     "output_type": "stream",
     "text": [
      "At t = 472.929 and h = 2.38432e-11, the corrector convergence failed repeatedly or with |h| = hmin.\n",
      "At t = 232.929 and h = 1.9824e-11, the corrector convergence failed repeatedly or with |h| = hmin.\n"
     ]
    },
    {
     "name": "stdout",
     "output_type": "stream",
     "text": [
      "{'lost_capacity': 0.3880292443384892, 'Q30': 0.11713753398210737, 'objective': 0.12471093054364957}\n",
      "\n",
      "Soln 6: \n",
      "\n"
     ]
    },
    {
     "name": "stderr",
     "output_type": "stream",
     "text": [
      "At t = 472.929 and h = 2.38432e-11, the corrector convergence failed repeatedly or with |h| = hmin.\n",
      "At t = 232.929 and h = 1.9824e-11, the corrector convergence failed repeatedly or with |h| = hmin.\n"
     ]
    },
    {
     "name": "stdout",
     "output_type": "stream",
     "text": [
      "{'lost_capacity': 0.39747265216552574, 'Q30': 0.11416757184765652, 'objective': 0.12154860502236159}\n",
      "\n",
      "Soln 7 \n",
      "\n"
     ]
    },
    {
     "name": "stderr",
     "output_type": "stream",
     "text": [
      "At t = 472.929 and h = 2.38432e-11, the corrector convergence failed repeatedly or with |h| = hmin.\n",
      "At t = 232.929 and h = 1.9824e-11, the corrector convergence failed repeatedly or with |h| = hmin.\n",
      "At t = 348.099 and h = 1.55842e-15, the corrector convergence failed repeatedly or with |h| = hmin.\n",
      "At t = 48.1 and h = 1.09698e-14, the corrector convergence failed repeatedly or with |h| = hmin.\n",
      "At t = 48.1 and h = 3.94697e-14, the corrector convergence failed repeatedly or with |h| = hmin.\n",
      "At t = 48.1 and h = 8.4993e-14, the corrector convergence failed repeatedly or with |h| = hmin.\n",
      "At t = 48.1 and h = 4.99573e-16, the corrector convergence failed repeatedly or with |h| = hmin.\n",
      "At t = 10.6001 and h = 1.26854e-14, the corrector convergence failed repeatedly or with |h| = hmin.\n",
      "At t = 10.6001 and h = 1.75746e-14, the corrector convergence failed repeatedly or with |h| = hmin.\n",
      "2025-06-24 12:43:20.751 - [WARNING] callbacks.on_experiment_infeasible_event(252): \n",
      "\n",
      "\tExperiment is infeasible: 'event: Maximum voltage [V]' was triggered during 'Charge at 3.0C for 6 minutes'. The returned solution only contains up to step 1 of cycle 7. \n"
     ]
    },
    {
     "name": "stdout",
     "output_type": "stream",
     "text": [
      "{'lost_capacity': 1.6387016822820177, 'Q30': 0.11952215642170723, 'objective': 0.11557092225238726}\n",
      "\n",
      "Soln 8: \n",
      "\n"
     ]
    },
    {
     "name": "stderr",
     "output_type": "stream",
     "text": [
      "At t = 472.929 and h = 2.38432e-11, the corrector convergence failed repeatedly or with |h| = hmin.\n",
      "At t = 232.929 and h = 1.9824e-11, the corrector convergence failed repeatedly or with |h| = hmin.\n"
     ]
    },
    {
     "name": "stdout",
     "output_type": "stream",
     "text": [
      "{'lost_capacity': 0.021606029738602116, 'Q30': 0.10557361047911254, 'objective': 0.13625187326858046}\n",
      "\n",
      "Soln 9: \n",
      "\n"
     ]
    },
    {
     "name": "stderr",
     "output_type": "stream",
     "text": [
      "At t = 472.929 and h = 2.38432e-11, the corrector convergence failed repeatedly or with |h| = hmin.\n",
      "At t = 232.929 and h = 1.9824e-11, the corrector convergence failed repeatedly or with |h| = hmin.\n"
     ]
    },
    {
     "name": "stdout",
     "output_type": "stream",
     "text": [
      "{'lost_capacity': 0.0478128870768618, 'Q30': 0.11194157167016823, 'objective': 0.13626525224379174}\n",
      "\n",
      "Soln 10: \n",
      "\n"
     ]
    },
    {
     "name": "stderr",
     "output_type": "stream",
     "text": [
      "At t = 472.929 and h = 2.38432e-11, the corrector convergence failed repeatedly or with |h| = hmin.\n",
      "At t = 232.929 and h = 1.9824e-11, the corrector convergence failed repeatedly or with |h| = hmin.\n"
     ]
    },
    {
     "name": "stdout",
     "output_type": "stream",
     "text": [
      "{'lost_capacity': 0.8610813906627672, 'Q30': 0.12499999999999993, 'objective': 0.12619652998908498}\n"
     ]
    },
    {
     "data": {
      "text/plain": [
       "{'objective': 0.12619652998908498}"
      ]
     },
     "execution_count": 7,
     "metadata": {},
     "output_type": "execute_result"
    }
   ],
   "source": [
    "beta = 0.008\n",
    "\n",
    "print(\"Soln 1: \\n\")\n",
    "\n",
    "soln = np.array([3,0,0,0,2.5187064929422838])\n",
    "run_P2D(soln,beta)\n",
    "\n",
    "print(\"\\nSoln 2: \\n\")\n",
    "\n",
    "new_soln = np.array([3,0,0,0,2.418492956058545])\n",
    "run_P2D(new_soln,beta)\n",
    "\n",
    "print(\"\\nSoln 3: \\n\")\n",
    "\n",
    "new_soln = np.array([3,0,3,0,2.4632001141882274])\n",
    "run_P2D(new_soln,beta)\n",
    "\n",
    "print(\"\\nSoln 4: \\n\")\n",
    "\n",
    "new_soln = np.array([3,0,3,0,2.426067620768284])\n",
    "run_P2D(new_soln,beta)\n",
    "\n",
    "print(\"\\nSoln 5: \\n\")\n",
    "\n",
    "new_soln = np.array([3,0,0,3,2.0565040778528902])\n",
    "run_P2D(new_soln,beta)\n",
    "\n",
    "print(\"\\nSoln 6: \\n\")\n",
    "\n",
    "new_soln = np.array([3,0,2.7676139732376295,0,2.4432537834956873])\n",
    "run_P2D(new_soln,beta)\n",
    "\n",
    "print(\"\\nSoln 7 \\n\")\n",
    "\n",
    "new_soln = np.array([3,3,2.6397239560705907,0,3])\n",
    "run_P2D(new_soln,beta)\n",
    "\n",
    "print(\"\\nSoln 8: \\n\")\n",
    "\n",
    "new_soln = np.array([3,0,0,0,2.0675333029974063])\n",
    "run_P2D(new_soln,beta)\n",
    "\n",
    "print(\"\\nSoln 9: \\n\")\n",
    "\n",
    "new_soln = np.array([2.7463103000376803,0,0,0,2.6268851401303963])\n",
    "run_P2D(new_soln,beta)\n",
    "\n",
    "print(\"\\nSoln 10: \\n\")\n",
    "\n",
    "new_soln = np.array([3,0,3,0,3])\n",
    "run_P2D(new_soln,beta)"
   ]
  },
  {
   "cell_type": "code",
   "execution_count": null,
   "id": "d71513b9",
   "metadata": {},
   "outputs": [],
   "source": []
  }
 ],
 "metadata": {
  "kernelspec": {
   "display_name": "Python 3 (ipykernel)",
   "language": "python",
   "name": "python3"
  },
  "language_info": {
   "codemirror_mode": {
    "name": "ipython",
    "version": 3
   },
   "file_extension": ".py",
   "mimetype": "text/x-python",
   "name": "python",
   "nbconvert_exporter": "python",
   "pygments_lexer": "ipython3",
   "version": "3.11.5"
  }
 },
 "nbformat": 4,
 "nbformat_minor": 5
}
