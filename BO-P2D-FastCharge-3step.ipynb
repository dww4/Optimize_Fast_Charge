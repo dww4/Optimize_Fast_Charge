{
 "cells": [
  {
   "cell_type": "markdown",
   "id": "3d946cc5",
   "metadata": {},
   "source": [
    "# Bayesian Optimization of Fast Charging Protocols\n",
    "\n",
    "This notebook demonstrates the use of the Ax Bayesian Optimization framework to tune a multi-step CC-CV fast charging protocol for a Li-ion battery simulated using a P2D cell model (w/ plating) in PyBaMM. Essentially, this project seeks to answer the question: \"What is the charging protocol that maximizes charge in 30 minutes while minimizing aging to the battery?\"\n",
    "\n",
    "---\n",
    "\n",
    "## Background\n",
    "\n",
    "We start with a 3-step charging protocol:  \n",
    "- Step 1: C-rate C1 for 10 minutes \n",
    "- Step 2: C-rate C2 for 10 minutes \n",
    "- Step 3: C-rate C3 for 10 minutes \n",
    "\n",
    "where C1, C2, and C3 are the parameters to be optimized.\n",
    "\n",
    "\n",
    "The optimization objective is: \n",
    "\n",
    "objective = $Q_{30} - \\beta*\\log(Q_{lost})$\n",
    "\n",
    "where: \n",
    "- $Q_{30}$ is the charge stored in 30 minutes \\[Ah\\] \n",
    "- $Q_{lost}$ is the capacity lost due to lithium plating \\[Ah\\] \n",
    "- $\\beta$ is a dimensionless weight that tunes how much the user wants to target high capacity versus low degradation \n",
    "\n",
    "This objective is chosen because it satisfies the following criteria:\n",
    "1. Rewards high capacity\n",
    "2. Penalizes lithium plating\n",
    "3. Tunable\n",
    "4. Stable\n",
    "\n",
    "**Goal: Obtain optimal charging profiles targeting i) high capacity and ii) low degradation**"
   ]
  },
  {
   "cell_type": "markdown",
   "id": "60740f85",
   "metadata": {},
   "source": [
    "## Load Libraries"
   ]
  },
  {
   "cell_type": "code",
   "execution_count": 1,
   "id": "4d619330",
   "metadata": {},
   "outputs": [],
   "source": [
    "#PyBamm Library\n",
    "import pybamm\n",
    "\n",
    "#Numpy Library\n",
    "import numpy as np\n",
    "\n",
    "#Ax Libraries\n",
    "from ax.api.client import Client\n",
    "from ax.api.configs import  RangeParameterConfig"
   ]
  },
  {
   "cell_type": "markdown",
   "id": "b1ca40fd",
   "metadata": {},
   "source": [
    "---\n",
    "\n",
    "## Define the Simulation Function\n",
    "\n",
    "In this section, we define the `run_P2D` function, which simulates a given charging protocol and returns the optimization objective. \n",
    "\n",
    "We use the DFN model with reversible plating enabled (based on LG M50 cell parameters) and evaluate performance after 30 minutes of charge. Before the charge cycle, the cell is discharged to it's minimum voltage at 1C.  \n"
   ]
  },
  {
   "cell_type": "code",
   "execution_count": 2,
   "id": "206a504e",
   "metadata": {},
   "outputs": [],
   "source": [
    "def run_P2D(params,beta):\n",
    "    C1, C2, C3 = params[0], params[1], params[2]\n",
    "    \n",
    "    #Define DFN model with lihtium plating\n",
    "    model = pybamm.lithium_ion.DFN(options={\"lithium plating\": \"reversible\"})\n",
    "    \n",
    "    #Define CC Experiment\n",
    "    experiment = pybamm.Experiment([\n",
    "        \"Discharge at 1C until 2.6V\",\n",
    "        \"Hold at 2.6V for 10 minutes\",\n",
    "        f\"Charge at {C1}C for 10 minutes\",\n",
    "        f\"Charge at {C2}C for 10 minutes\",\n",
    "        f\"Charge at {C3}C for 10 minutes\",\n",
    "    ])\n",
    "    pv = pybamm.ParameterValues(\"OKane2022\")\n",
    "    \n",
    "    #Run Simulation\n",
    "    sim = pybamm.Simulation(model, experiment=experiment,parameter_values=pv)\n",
    "    sim.solve(solver=pybamm.CasadiSolver(mode=\"safe\", dt_max=1))\n",
    "    \n",
    "    #Obtain Simulation Observables\n",
    "    time_sim = sim.solution[\"Time [min]\"].data\n",
    "    lost_capacity = np.max(sim.solution['Loss of capacity to negative lithium plating [A.h]'].data)\n",
    "    \n",
    "    #Calculate Amount of Charge in 30 minutes\n",
    "    I = sim.solution[\"Current [A]\"].data          #store current data\n",
    "    t0 = time_sim[np.where(I < 0)[0][0]]     #index first charging point\n",
    "    charging_mask = (I < 0) & (time_sim <= t0 + 1800) #define 30 minute charging range\n",
    "    Q30 = np.trapz(-I[charging_mask], time_sim[charging_mask])   #coulomb count for 30 minute charging range\n",
    "    Q30_Ah = Q30 / 3600     #convert to Ah\n",
    "    \n",
    "    objective = Q30_Ah - beta*np.log(lost_capacity)\n",
    "    \n",
    "    print({\"lost_capacity\": lost_capacity, \"Q30\": Q30_Ah, \"objective\": objective})\n",
    "    return {\"objective\": objective}\n"
   ]
  },
  {
   "cell_type": "markdown",
   "id": "d0354552",
   "metadata": {},
   "source": [
    "---\n",
    "\n",
    "## Test Simulation with Different Weights\n",
    "\n",
    "Before optimizing, it's important to test the P2D model to ensure that the simulation returns sensical values and that the weighting factor ($\\beta$) reflects the goals of the user (ex: higher capacity vs less plating). Since the parameters of the P2D model are based on an NMC-graphite chemistry (i.e relatively stable so plating shouldn't be very destructive), I will first target a higher capacity. The following ranking is desired: \n",
    "\n",
    "Rank 1 (Worst): Low capacity + High degradation \\\n",
    "Rank 2: Low capacity + Low degradation \\\n",
    "Rank 3: High capacity + High degradation \\\n",
    "Rank 4 (Best): High capacity + Low degradation\n",
    "\n",
    "If a more passive protocol is desired (i.e less degradation is favored), then ranks 2 and 3 could be switched as is done in the 2nd portion of this notebook. \n"
   ]
  },
  {
   "cell_type": "code",
   "execution_count": 3,
   "id": "025fbe3d",
   "metadata": {},
   "outputs": [
    {
     "name": "stderr",
     "output_type": "stream",
     "text": [
      "At t = 472.929 and h = 2.38432e-11, the corrector convergence failed repeatedly or with |h| = hmin.\n",
      "At t = 232.929 and h = 1.9824e-11, the corrector convergence failed repeatedly or with |h| = hmin.\n"
     ]
    },
    {
     "name": "stdout",
     "output_type": "stream",
     "text": [
      "{'lost_capacity': 0.0005620043797975666, 'Q30': 0.010416666666666663, 'objective': 0.07028867398560143}\n"
     ]
    },
    {
     "name": "stderr",
     "output_type": "stream",
     "text": [
      "At t = 472.929 and h = 2.38432e-11, the corrector convergence failed repeatedly or with |h| = hmin.\n",
      "At t = 232.929 and h = 1.9824e-11, the corrector convergence failed repeatedly or with |h| = hmin.\n"
     ]
    },
    {
     "name": "stdout",
     "output_type": "stream",
     "text": [
      "{'lost_capacity': 0.0006279845491386918, 'Q30': 0.020833333333333325, 'objective': 0.07981729329398196}\n"
     ]
    },
    {
     "name": "stderr",
     "output_type": "stream",
     "text": [
      "At t = 472.929 and h = 2.38432e-11, the corrector convergence failed repeatedly or with |h| = hmin.\n",
      "At t = 232.929 and h = 1.9824e-11, the corrector convergence failed repeatedly or with |h| = hmin.\n"
     ]
    },
    {
     "name": "stdout",
     "output_type": "stream",
     "text": [
      "{'lost_capacity': 0.4483241250010145, 'Q30': 0.0833333333333333, 'objective': 0.08975124385218475}\n"
     ]
    },
    {
     "name": "stderr",
     "output_type": "stream",
     "text": [
      "At t = 472.929 and h = 2.38432e-11, the corrector convergence failed repeatedly or with |h| = hmin.\n",
      "At t = 232.929 and h = 1.9824e-11, the corrector convergence failed repeatedly or with |h| = hmin.\n"
     ]
    },
    {
     "name": "stdout",
     "output_type": "stream",
     "text": [
      "{'lost_capacity': 0.34430032970418356, 'Q30': 0.08333333333333329, 'objective': 0.09186326094158005}\n"
     ]
    },
    {
     "data": {
      "text/plain": [
       "{'objective': 0.09186326094158005}"
      ]
     },
     "execution_count": 3,
     "metadata": {},
     "output_type": "execute_result"
    }
   ],
   "source": [
    "beta = 0.008 #beta = 0.011 is very balanced but slightly on less degradation side (passive) | beta = 0.008 is slightly on more capacity side (aggressive)\n",
    "run_P2D([0.25,0.25,0.25],beta)\n",
    "run_P2D([0.5,0.5,0.5],beta)\n",
    "run_P2D([2,2,2],beta)\n",
    "run_P2D([2.5,2,1.5],beta) "
   ]
  },
  {
   "cell_type": "markdown",
   "id": "961752db",
   "metadata": {},
   "source": [
    "### Test Results\n",
    "\n",
    "Two things to note after this initial test:\n",
    "\n",
    "1. The P2D + plating model is indeed returning values that make physical sense. As the C-rate is doubled from C/4 -> C/2, the amount of charge is doubled but the capacity lost to plating is nearly the same. However, at higher C-rates (ex: 2C) there is significant plating as expected. Finally, when the current starts high but is decreased as the charge progresses (a common strategy used in fast charging), the degree of plating decreases since lithium intercalation is easiest at low SOC. \n",
    "\n",
    "\n",
    "2. $\\beta$ = 0.008 results in the ranking that I desired, but again this can be readily changed to reflect a more passive strategy that favors less degradation.\n",
    "\n",
    "---\n"
   ]
  },
  {
   "cell_type": "markdown",
   "id": "1d777aec",
   "metadata": {},
   "source": [
    "\n",
    "## Run Bayesian Optimization\n",
    "\n",
    "Ax is now called to optimize the charge profile (C1, C2, C3). By default, the algorithm uses Gaussian Process (GP) as the surrogate model and Expected Improvement (EI) as the utiliy function. \n",
    "\n",
    "### Initialize Algorithm\n",
    "The following cell initializes the experiment, defines input parameters, and sets the optimization objective. The maximum C-rate is 3C to avoid Vmax from being reached, and the objective is maximized. \n"
   ]
  },
  {
   "cell_type": "code",
   "execution_count": null,
   "id": "604f1a78",
   "metadata": {},
   "outputs": [],
   "source": [
    "#1. Initialize Client for Experiment\n",
    "client = Client()\n",
    "\n",
    "#2. Define Input Parameter Name, Type, and Bounds/Values\n",
    "C1 = RangeParameterConfig(name=\"C1\", parameter_type=\"float\", bounds=(0, 3))   #3C is max to prevent Vmax from being reached\n",
    "C2 = RangeParameterConfig(name=\"C2\", parameter_type=\"float\", bounds=(0, 3))\n",
    "C3 = RangeParameterConfig(name=\"C3\", parameter_type=\"float\", bounds=(0, 3))\n",
    "\n",
    "#3. Configure Experiment\n",
    "client.configure_experiment(\n",
    "    parameters=[C1,C2,C3],\n",
    "    # The following arguments are only necessary when saving to the DB\n",
    "    name=\"Fast-Charging-Exp\",\n",
    "    description=\"Optimize fast charging profile-aggressive\",\n",
    ")\n",
    "\n",
    "#4. Set Optimization Objective\n",
    "client.configure_optimization(objective=\"objective\")\n"
   ]
  },
  {
   "cell_type": "markdown",
   "id": "17dad733",
   "metadata": {},
   "source": [
    "### Attach Preexisting Trials\n",
    "\n",
    "Attach the data from the inital simulation test to train the initial surrogate model."
   ]
  },
  {
   "cell_type": "code",
   "execution_count": null,
   "id": "ca30858a",
   "metadata": {},
   "outputs": [],
   "source": [
    "# Pairs of previously evaluated parameterizations and associated metric readings\n",
    "preexisting_trials = [\n",
    "    (\n",
    "        {\"C1\": 0.25, \"C2\": 0.25, \"C3\": 0.25},\n",
    "        {\"objective\": 0.07028867398560143},\n",
    "    ),\n",
    "    (\n",
    "        {\"C1\": 0.5, \"C2\": 0.5, \"C3\": 0.5},\n",
    "        {\"objective\": 0.07981729329398196},\n",
    "    ),\n",
    "    (\n",
    "        {\"C1\": 2.0, \"C2\": 2.0, \"C3\": 2.0},\n",
    "        {\"objective\": 0.08975124385218475},\n",
    "    ),\n",
    "    (\n",
    "        {\"C1\": 2.5, \"C2\": 2.0, \"C3\": 1.5},\n",
    "        {\"objective\": 0.09186326094158005},\n",
    "    ),\n",
    "\n",
    "]\n",
    "\n",
    "for parameters, data in preexisting_trials:\n",
    "    # Attach the parameterization to the Client as a trial and immediately complete it with the preexisting data\n",
    "    trial_index = client.attach_trial(parameters=parameters)\n",
    "    client.complete_trial(trial_index=trial_index, raw_data=data)"
   ]
  },
  {
   "cell_type": "markdown",
   "id": "7e5bd49f",
   "metadata": {},
   "source": [
    "### Run Optimization\n",
    "\n",
    "Every epoch, obtain 3 new charge profile recommendations and test them using the `run_P2D` function for N epochs (N = 20 takes about 5 minutes). "
   ]
  },
  {
   "cell_type": "code",
   "execution_count": null,
   "id": "7d5a8a2d",
   "metadata": {
    "scrolled": true
   },
   "outputs": [],
   "source": [
    "N = 35 #number of BO epochs\n",
    "for i in range(N):\n",
    "    \n",
    "    #Get new trials\n",
    "    trials = client.get_next_trials(max_trials=3)\n",
    "    \n",
    "    # Tell Ax the result of those trials\n",
    "    for trial_index, parameters in trials.items():\n",
    "        client.complete_trial(trial_index=trial_index, raw_data=run_P2D(list(parameters.values()),beta))"
   ]
  },
  {
   "cell_type": "markdown",
   "id": "cae47f7e",
   "metadata": {},
   "source": [
    "### Analyze Results\n",
    "\n",
    "Print the best predicted paramters and show the detailed analysis from the BO algorithm"
   ]
  },
  {
   "cell_type": "code",
   "execution_count": null,
   "id": "68525779",
   "metadata": {
    "scrolled": true
   },
   "outputs": [],
   "source": [
    "best_parameters, prediction, index, name = client.get_best_parameterization()\n",
    "print(\"Best Parameters:\", best_parameters)\n",
    "print(\"Prediction (mean, variance):\", prediction)\n",
    "\n",
    "cards = client.compute_analyses(display=True)"
   ]
  },
  {
   "cell_type": "markdown",
   "id": "3fbb66b6",
   "metadata": {},
   "source": [
    "---\n",
    "\n",
    "## Results & Discussion (i)\n",
    "\n",
    "The most optimal charge profile the BO algorithm returned was:\n",
    "\n",
    "1. C1 = 3C \n",
    "2. C2 = 0C \n",
    "3. C3 = 3C \n",
    "\n",
    "lost_capacity: 1.2670776248463689 Q30: 0.12499999999999993 objective: 0.12310629467109654 \n",
    "\n",
    "Given the constraints of the problem, it makes a lot of sense that the most optimal charging profile is to load as much current as possible at first, let the cell rest, and then load as much current as possible later on (i.e charge-rest-charge). The rest period allows the cell to relax which helps ease the diffusion gradients and thus limits lithium plating. A similar strategy has been discussed in the literature called \"Pulse-Current Fast Charging\" - which has been experimentally shown to maximize capacity while limiting cell degradation due to the inclusion of rest periods. While the strategy recommended by the Bayesian optimization is not really pulse-current (due to the predefined 10 minute intervals), it is remarkable that the algorithm \"learned\" this strategy completely on it's own. \n",
    "\n",
    "Note that due to the stochastic nature of BO, you may or may not reproduce these results immediately, but may take a few tries. The N = 35 was chosen such that this solution is obtained *most* of the time.\n",
    "\n"
   ]
  },
  {
   "cell_type": "markdown",
   "id": "721a8c1d",
   "metadata": {},
   "source": [
    "---\n",
    "\n",
    "## Rerun BO with New Weight\n",
    "\n",
    "\n",
    "I then wanted to test this algorithm for a more passive charging protocol that favors less degradation slightly more than high capacity, so the whole process is reran with a $\\beta$ = 0.015. Keep in mind that if less degradation is completely favored ($\\beta$>>0.015), then the optimal solution can be trivial (C1=C2=C3=0). For this case, the following rank is desired:\n",
    "\n",
    "Rank 1 (Worst): Low capacity + High degradation \\\n",
    "Rank 2: High capacity + High degradation \\\n",
    "Rank 3: Low capacity + Low degradation \\\n",
    "Rank 4 (Best): High capacity + Low degradation"
   ]
  },
  {
   "cell_type": "markdown",
   "id": "a5b187c2",
   "metadata": {},
   "source": [
    "### Test new $\\beta$ "
   ]
  },
  {
   "cell_type": "code",
   "execution_count": 4,
   "id": "ddfabb04",
   "metadata": {},
   "outputs": [
    {
     "name": "stderr",
     "output_type": "stream",
     "text": [
      "At t = 472.929 and h = 2.38432e-11, the corrector convergence failed repeatedly or with |h| = hmin.\n",
      "At t = 232.929 and h = 1.9824e-11, the corrector convergence failed repeatedly or with |h| = hmin.\n"
     ]
    },
    {
     "name": "stdout",
     "output_type": "stream",
     "text": [
      "{'lost_capacity': 0.0005620043797975666, 'Q30': 0.010416666666666663, 'objective': 0.12267668038966935}\n"
     ]
    },
    {
     "name": "stderr",
     "output_type": "stream",
     "text": [
      "At t = 472.929 and h = 2.38432e-11, the corrector convergence failed repeatedly or with |h| = hmin.\n",
      "At t = 232.929 and h = 1.9824e-11, the corrector convergence failed repeatedly or with |h| = hmin.\n"
     ]
    },
    {
     "name": "stdout",
     "output_type": "stream",
     "text": [
      "{'lost_capacity': 0.0006279845491386918, 'Q30': 0.020833333333333325, 'objective': 0.1314282582595495}\n"
     ]
    },
    {
     "name": "stderr",
     "output_type": "stream",
     "text": [
      "At t = 472.929 and h = 2.38432e-11, the corrector convergence failed repeatedly or with |h| = hmin.\n",
      "At t = 232.929 and h = 1.9824e-11, the corrector convergence failed repeatedly or with |h| = hmin.\n"
     ]
    },
    {
     "name": "stdout",
     "output_type": "stream",
     "text": [
      "{'lost_capacity': 0.4483241250010145, 'Q30': 0.0833333333333333, 'objective': 0.09536691555617977}\n"
     ]
    },
    {
     "name": "stderr",
     "output_type": "stream",
     "text": [
      "At t = 472.929 and h = 2.38432e-11, the corrector convergence failed repeatedly or with |h| = hmin.\n",
      "At t = 232.929 and h = 1.9824e-11, the corrector convergence failed repeatedly or with |h| = hmin.\n"
     ]
    },
    {
     "name": "stdout",
     "output_type": "stream",
     "text": [
      "{'lost_capacity': 0.34430032970418356, 'Q30': 0.08333333333333329, 'objective': 0.09932694759879598}\n"
     ]
    },
    {
     "name": "stderr",
     "output_type": "stream",
     "text": [
      "At t = 472.929 and h = 2.38432e-11, the corrector convergence failed repeatedly or with |h| = hmin.\n",
      "At t = 232.929 and h = 1.9824e-11, the corrector convergence failed repeatedly or with |h| = hmin.\n"
     ]
    },
    {
     "name": "stdout",
     "output_type": "stream",
     "text": [
      "{'lost_capacity': 1.2670776248463689, 'Q30': 0.12499999999999993, 'objective': 0.12144930250830607}\n"
     ]
    },
    {
     "data": {
      "text/plain": [
       "{'objective': 0.12144930250830607}"
      ]
     },
     "execution_count": 4,
     "metadata": {},
     "output_type": "execute_result"
    }
   ],
   "source": [
    "#0. Test new beta and obtain pre-training data\n",
    "beta = 0.015 \n",
    "run_P2D([0.25,0.25,0.25],beta)\n",
    "run_P2D([0.5,0.5,0.5],beta)\n",
    "run_P2D([2,2,2],beta)\n",
    "run_P2D([2.5,2,1.5],beta) \n",
    "run_P2D([3,0,3],beta) "
   ]
  },
  {
   "cell_type": "markdown",
   "id": "8d9f2508",
   "metadata": {},
   "source": [
    "#### Test Results\n",
    "\n",
    "With the new $\\beta$ = 0.015, the new desired ranking was achieved and the previously recommended best charging profile (3C, 0, 3C) is now the 2nd best out of the set tested. "
   ]
  },
  {
   "cell_type": "markdown",
   "id": "0ee14d3b",
   "metadata": {},
   "source": [
    "### Initialize new optimization and add new pre-training data"
   ]
  },
  {
   "cell_type": "code",
   "execution_count": null,
   "id": "95c9308c",
   "metadata": {},
   "outputs": [],
   "source": [
    "#1. Initialize Client for Experiment\n",
    "client = Client()\n",
    "\n",
    "#2. Define Input Parameter Name, Type, and Bounds/Values\n",
    "C1 = RangeParameterConfig(name=\"C1\", parameter_type=\"float\", bounds=(0, 3))   #3C is max to prevent Vmax from being reached\n",
    "C2 = RangeParameterConfig(name=\"C2\", parameter_type=\"float\", bounds=(0, 3))\n",
    "C3 = RangeParameterConfig(name=\"C3\", parameter_type=\"float\", bounds=(0, 3))\n",
    "\n",
    "#3. Configure Experiment\n",
    "client.configure_experiment(\n",
    "    parameters=[C1,C2,C3],\n",
    "    # The following arguments are only necessary when saving to the DB\n",
    "    name=\"Fast-Charging-Exp\",\n",
    "    description=\"Optimize fast charging profile-passive\",\n",
    ")\n",
    "\n",
    "#4. Set Optimization Objective\n",
    "client.configure_optimization(objective=\"objective\")\n",
    "\n",
    "#. Load Preexisting Trials\n",
    "preexisting_trials = [\n",
    "    (\n",
    "        {\"C1\": 0.25, \"C2\": 0.25, \"C3\": 0.25},\n",
    "        {\"objective\": 0.12267668038966935},\n",
    "    ),\n",
    "    (\n",
    "        {\"C1\": 0.5, \"C2\": 0.5, \"C3\": 0.5},\n",
    "        {\"objective\": 0.1314282582595495},\n",
    "    ),\n",
    "    (\n",
    "        {\"C1\": 2.0, \"C2\": 2.0, \"C3\": 2.0},\n",
    "        {\"objective\": 0.09536691555617977},\n",
    "    ),\n",
    "    (\n",
    "        {\"C1\": 2.5, \"C2\": 2.0, \"C3\": 1.5},\n",
    "        {\"objective\": 0.09932694759879598},\n",
    "    ),\n",
    "\n",
    "]\n",
    "\n",
    "for parameters, data in preexisting_trials:\n",
    "    # Attach the parameterization to the Client as a trial and immediately complete it with the preexisting data\n",
    "    trial_index = client.attach_trial(parameters=parameters)\n",
    "    client.complete_trial(trial_index=trial_index, raw_data=data)"
   ]
  },
  {
   "cell_type": "markdown",
   "id": "1ebc91cf",
   "metadata": {},
   "source": [
    "### Run New Optimization"
   ]
  },
  {
   "cell_type": "code",
   "execution_count": null,
   "id": "500d6a06",
   "metadata": {},
   "outputs": [],
   "source": [
    "N = 35 #number of BO epochs\n",
    "for i in range(N):\n",
    "    \n",
    "    #Get new trials\n",
    "    trials = client.get_next_trials(max_trials=3)\n",
    "    \n",
    "    # Tell Ax the result of those trials\n",
    "    for trial_index, parameters in trials.items():\n",
    "        client.complete_trial(trial_index=trial_index, raw_data=run_P2D(list(parameters.values()),beta))"
   ]
  },
  {
   "cell_type": "markdown",
   "id": "08d66322",
   "metadata": {},
   "source": [
    "### Analyze New Results"
   ]
  },
  {
   "cell_type": "code",
   "execution_count": null,
   "id": "f67fb18c",
   "metadata": {},
   "outputs": [],
   "source": [
    "#Output New Results\n",
    "best_parameters, prediction, index, name = client.get_best_parameterization()\n",
    "print(\"Best Parameters:\", best_parameters)\n",
    "print(\"Prediction (mean, variance):\", prediction)\n",
    "\n",
    "cards = client.compute_analyses(display=True)"
   ]
  },
  {
   "cell_type": "markdown",
   "id": "5b1fe3e9",
   "metadata": {},
   "source": [
    "### Results & Discussion (ii)\n",
    "\n",
    "The new optimal charge profile that prioritizes low degradation over high capacity is:\n",
    "1. C1 = 0.91C \n",
    "2. C2 = 0C \n",
    "3. C3 = 0.54C \n",
    "\n",
    "Interestingly, this is more or less the same strategy obtained in the previous optimization except now the currents are optimized to minimize degradation from lithium plating. When prioritizing low degradation, the algorithm recommends a profile that is not really fast charging at all (<1C) - which makes sense. \n",
    "\n",
    "To show that this is an optimal solution (at least locally), I ran two more profiles at C-rates 5% above and below the recommended solution. Not only was the BO solution better than both (highest capacity amongst lowest degradation), but it appears to be right at the limit that lithium plating starts to become significant - and the algorithm optimized to this limit completely autonomously. Basically, the algorithm returned the charging profile with the maximum capacity before any significant plating began. (Results below)\n",
    "\n",
    "Although the new solution does indeed seem optimized to low degradation, again keep in mind that this process is stochastic and so it is possible to obtain a better or worse solution after rerunning. This algorithm was ran 3 times to ensure that this solution was indeed the best that could be found. "
   ]
  },
  {
   "cell_type": "code",
   "execution_count": 5,
   "id": "0fb70241",
   "metadata": {},
   "outputs": [
    {
     "name": "stderr",
     "output_type": "stream",
     "text": [
      "At t = 472.929 and h = 2.38432e-11, the corrector convergence failed repeatedly or with |h| = hmin.\n",
      "At t = 232.929 and h = 1.9824e-11, the corrector convergence failed repeatedly or with |h| = hmin.\n"
     ]
    },
    {
     "name": "stdout",
     "output_type": "stream",
     "text": [
      "{'lost_capacity': 0.0005620043797975666, 'Q30': 0.03003333352051353, 'objective': 0.14229334724351622}\n"
     ]
    },
    {
     "name": "stderr",
     "output_type": "stream",
     "text": [
      "At t = 472.929 and h = 2.38432e-11, the corrector convergence failed repeatedly or with |h| = hmin.\n",
      "At t = 232.929 and h = 1.9824e-11, the corrector convergence failed repeatedly or with |h| = hmin.\n"
     ]
    },
    {
     "name": "stdout",
     "output_type": "stream",
     "text": [
      "{'lost_capacity': 0.0007101460026075361, 'Q30': 0.0315350001965392, 'objective': 0.14028559977044916}\n"
     ]
    },
    {
     "name": "stderr",
     "output_type": "stream",
     "text": [
      "At t = 472.929 and h = 2.38432e-11, the corrector convergence failed repeatedly or with |h| = hmin.\n",
      "At t = 232.929 and h = 1.9824e-11, the corrector convergence failed repeatedly or with |h| = hmin.\n"
     ]
    },
    {
     "name": "stdout",
     "output_type": "stream",
     "text": [
      "{'lost_capacity': 0.0005620043797975666, 'Q30': 0.028531666844487838, 'objective': 0.14079168056749053}\n"
     ]
    },
    {
     "data": {
      "text/plain": [
       "{'objective': 0.14079168056749053}"
      ]
     },
     "execution_count": 5,
     "metadata": {},
     "output_type": "execute_result"
    }
   ],
   "source": [
    "soln = np.array([0.9061734071325732,0,0.5354266018520765]) \n",
    "run_P2D(soln,beta)\n",
    "run_P2D(1.05*soln,beta)\n",
    "run_P2D(0.95*soln,beta)\n"
   ]
  },
  {
   "cell_type": "markdown",
   "id": "9844fcc9",
   "metadata": {},
   "source": [
    "---\n",
    "\n",
    "## Conclusions & Next Steps\n",
    "\n",
    "This Bayesian optimization algorithm demonstrates that a 3-step charging protocol can be optimized effectively and the optimal strategy produced by this algorithm is similar to one shown to be sucessful in the literature. While this does show the effectiveness of BO in optimizing fast-charging protocols, careful consideration needs to be given to what weighting factor is used as even small changes can siginficantly affect the optimal solution. \n",
    "\n",
    "Potential next steps:\n",
    "- N-step charging protocol (instead of just 3)\n",
    "- Time of each step as a parameter (instead of 10 minutes for all)\n",
    "- Both N-step + t-step as parameters (most general charging profile)\n"
   ]
  },
  {
   "cell_type": "code",
   "execution_count": null,
   "id": "ad8d858d",
   "metadata": {},
   "outputs": [],
   "source": []
  }
 ],
 "metadata": {
  "kernelspec": {
   "display_name": "Python 3 (ipykernel)",
   "language": "python",
   "name": "python3"
  },
  "language_info": {
   "codemirror_mode": {
    "name": "ipython",
    "version": 3
   },
   "file_extension": ".py",
   "mimetype": "text/x-python",
   "name": "python",
   "nbconvert_exporter": "python",
   "pygments_lexer": "ipython3",
   "version": "3.11.5"
  }
 },
 "nbformat": 4,
 "nbformat_minor": 5
}
